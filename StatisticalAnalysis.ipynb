{
 "cells": [
  {
   "cell_type": "code",
   "execution_count": 14,
   "id": "dceb9738",
   "metadata": {},
   "outputs": [],
   "source": [
    "import pandas as pd\n",
    "import networkx as nx\n",
    "import matplotlib.pyplot as plt\n",
    "import itertools\n",
    "from pyvis.network import Network"
   ]
  },
  {
   "cell_type": "markdown",
   "id": "8e49066c",
   "metadata": {},
   "source": [
    "### ネットワーク分析"
   ]
  },
  {
   "cell_type": "code",
   "execution_count": 106,
   "id": "e495f37c",
   "metadata": {},
   "outputs": [],
   "source": [
    "df = pd.read_csv('/Users/aoikawahara/Library/CloudStorage/OneDrive-KULeuven/Leuven/02_Introduction to Humanities/Assignments/2nd Wrokplace/animelist.csv')"
   ]
  },
  {
   "cell_type": "code",
   "execution_count": 108,
   "id": "d6fc442e",
   "metadata": {},
   "outputs": [
    {
     "name": "stdout",
     "output_type": "stream",
     "text": [
      "Nodes: 794, Edges: 5534\n"
     ]
    }
   ],
   "source": [
    "df_filtered = df.dropna(subset=['producer', 'licensor', 'studio'])\n",
    "\n",
    "G = nx.Graph()\n",
    "\n",
    "for _, row in df_filtered.iterrows():\n",
    "    anime = row['title']\n",
    "    producers = row['producer'].split(', ')\n",
    "    licensors = row['licensor'].split(', ')\n",
    "    studios = row['studio'].split(', ')\n",
    "\n",
    "    for producer in producers:\n",
    "        G.add_edge(producer, licensor, relation='pl')\n",
    "\n",
    "    for licensor in licensors:\n",
    "        G.add_edge(licensor, studio, relation='ls')\n",
    "    \n",
    "    for studio in studios:\n",
    "        G.add_edge(studio, producer, relation='sp')\n",
    "\n",
    "print(f\"Nodes: {G.number_of_nodes()}, Edges: {G.number_of_edges()}\")\n",
    "\n",
    "nx.write_gexf(G, 'graph.gexf')"
   ]
  }
 ],
 "metadata": {
  "kernelspec": {
   "display_name": "Python 3 (ipykernel)",
   "language": "python",
   "name": "python3"
  },
  "language_info": {
   "codemirror_mode": {
    "name": "ipython",
    "version": 3
   },
   "file_extension": ".py",
   "mimetype": "text/x-python",
   "name": "python",
   "nbconvert_exporter": "python",
   "pygments_lexer": "ipython3",
   "version": "3.11.7"
  }
 },
 "nbformat": 4,
 "nbformat_minor": 5
}
